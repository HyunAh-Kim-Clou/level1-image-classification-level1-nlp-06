{
 "cells": [
  {
   "cell_type": "markdown",
   "id": "about-heavy",
   "metadata": {},
   "source": [
    "## 0. Libarary 불러오기 및 경로설정"
   ]
  },
  {
   "cell_type": "code",
   "execution_count": 1,
   "id": "cubic-scoop",
   "metadata": {},
   "outputs": [],
   "source": [
    "# Baseline\n",
    "from EDA import show_images, PCA\n",
    "from dataset import ImageAugmentation\n",
    "from dataset import MaskBaseDataset, MaskSplitByProfileDataset, TestDataset\n",
    "from loss import FocalLoss, LabelSmoothingLoss, F1Loss\n",
    "from train import seed_everything, k_fold_train, train, eval\n",
    "from inference import test, compare_with_SOTA\n",
    "\n",
    "import wandb\n",
    "\n",
    "import os\n",
    "from time import time\n",
    "from collections import Counter\n",
    "import numpy as np\n",
    "import pandas as pd\n",
    "import matplotlib.pyplot as plt\n",
    "import seaborn as sns\n",
    "from PIL import Image\n",
    "import cv2\n",
    "from tqdm.notebook import tqdm\n",
    "\n",
    "from sklearn.model_selection import train_test_split\n",
    "from sklearn.manifold import TSNE\n",
    "from sklearn.decomposition import PCA\n",
    "\n",
    "\n",
    "import torch\n",
    "import torch.nn as nn\n",
    "import torch.nn.functional as F\n",
    "from torch.autograd import Variable\n",
    "from torch.utils.data import DataLoader\n",
    "\n",
    "from torchvision import transforms\n",
    "from torchvision.transforms import Resize, ToTensor, Normalize\n",
    "from torchvision.transforms.functional import to_pil_image # tensor to pil_image\n",
    "import torchvision.models as models\n",
    "import torchvision.transforms as T\n",
    "%matplotlib inline"
   ]
  },
  {
   "cell_type": "code",
   "execution_count": 2,
   "id": "built-elevation",
   "metadata": {},
   "outputs": [],
   "source": [
    "# 데이터셋 폴더 경로를 지정\n",
    "train_dir = '../../../../input/data/train'\n",
    "images_dir = '../../../../input/data/train/images'\n",
    "\n",
    "test_dir = '../../../../input/data/eval'\n",
    "model_dir = '../../../../code/models'"
   ]
  },
  {
   "cell_type": "code",
   "execution_count": 3,
   "id": "9259218c-0cc8-401d-90ec-5b43108633b6",
   "metadata": {},
   "outputs": [
    {
     "name": "stdout",
     "output_type": "stream",
     "text": [
      "CUDA: True\n"
     ]
    }
   ],
   "source": [
    "print(f\"CUDA: {torch.cuda.is_available()}\")\n",
    "device = torch.device('cuda' if torch.cuda.is_available() else 'cpu')"
   ]
  },
  {
   "cell_type": "code",
   "execution_count": 4,
   "id": "8a1681c7-19a9-4937-bb85-f2da83b80a56",
   "metadata": {},
   "outputs": [],
   "source": [
    "BATCH_SIZE = 70\n",
    "LR = 0.0001\n",
    "EPOCH = 30\n",
    "NUM_WORKERS = 5\n",
    "\n",
    "seed_everything(42)\n",
    "CLASS_NUM = 18"
   ]
  },
  {
   "cell_type": "code",
   "execution_count": 5,
   "id": "b832b645-9262-48b7-9e63-395ebec989ba",
   "metadata": {},
   "outputs": [
    {
     "data": {
      "text/html": [
       "<div>\n",
       "<style scoped>\n",
       "    .dataframe tbody tr th:only-of-type {\n",
       "        vertical-align: middle;\n",
       "    }\n",
       "\n",
       "    .dataframe tbody tr th {\n",
       "        vertical-align: top;\n",
       "    }\n",
       "\n",
       "    .dataframe thead th {\n",
       "        text-align: right;\n",
       "    }\n",
       "</style>\n",
       "<table border=\"1\" class=\"dataframe\">\n",
       "  <thead>\n",
       "    <tr style=\"text-align: right;\">\n",
       "      <th></th>\n",
       "      <th>id</th>\n",
       "      <th>gender</th>\n",
       "      <th>race</th>\n",
       "      <th>age</th>\n",
       "      <th>path</th>\n",
       "    </tr>\n",
       "  </thead>\n",
       "  <tbody>\n",
       "    <tr>\n",
       "      <th>2697</th>\n",
       "      <td>006956</td>\n",
       "      <td>male</td>\n",
       "      <td>Asian</td>\n",
       "      <td>19</td>\n",
       "      <td>006956_male_Asian_19</td>\n",
       "    </tr>\n",
       "    <tr>\n",
       "      <th>2698</th>\n",
       "      <td>006957</td>\n",
       "      <td>male</td>\n",
       "      <td>Asian</td>\n",
       "      <td>20</td>\n",
       "      <td>006957_male_Asian_20</td>\n",
       "    </tr>\n",
       "    <tr>\n",
       "      <th>2699</th>\n",
       "      <td>006959</td>\n",
       "      <td>male</td>\n",
       "      <td>Asian</td>\n",
       "      <td>19</td>\n",
       "      <td>006959_male_Asian_19</td>\n",
       "    </tr>\n",
       "  </tbody>\n",
       "</table>\n",
       "</div>"
      ],
      "text/plain": [
       "          id gender   race  age                  path\n",
       "2697  006956   male  Asian   19  006956_male_Asian_19\n",
       "2698  006957   male  Asian   20  006957_male_Asian_20\n",
       "2699  006959   male  Asian   19  006959_male_Asian_19"
      ]
     },
     "execution_count": 5,
     "metadata": {},
     "output_type": "execute_result"
    }
   ],
   "source": [
    "train_csv = pd.read_csv(os.path.join(train_dir, 'train.csv'))\n",
    "train_csv.tail(3)"
   ]
  },
  {
   "cell_type": "code",
   "execution_count": 6,
   "id": "7a454cb8-e1eb-46e8-b91b-4a95c571bfce",
   "metadata": {},
   "outputs": [],
   "source": [
    "ds = MaskSplitByProfileDataset(images_dir, 0.2)\n",
    "# ds = MaskBaseDataset(images_dir, 0.2)"
   ]
  },
  {
   "cell_type": "markdown",
   "id": "e9c55496-cd9c-4d79-bbcb-2f775ec202fc",
   "metadata": {},
   "source": [
    "# EDA"
   ]
  },
  {
   "cell_type": "code",
   "execution_count": 7,
   "id": "429c6f95-e804-4e54-9d62-329412cefa21",
   "metadata": {},
   "outputs": [],
   "source": [
    "# ColorJitter(brightness=0~1, contrast=0~1, saturation=0~1, hue=0~1)\n",
    "# GaussianBlur(kernel_size, sigma)\n",
    "\n",
    "transform = transforms.Compose([\n",
    "    T.RandomPerspective(distortion_scale=0.5, p=0.5),\n",
    "    ToTensor(),\n",
    "    T.ColorJitter((0.1, 0.3), 0.7, 1, (0.1, 0.3)),\n",
    "    T.GaussianBlur((5,9), (0.1,0.5)),\n",
    "    T.RandomHorizontalFlip(p=0.5),\n",
    "    T.Normalize(mean=[0.485, 0.456, 0.406], std=[0.229, 0.224, 0.225])\n",
    "])\n",
    "ds.set_transform(transform)"
   ]
  },
  {
   "cell_type": "code",
   "execution_count": 8,
   "id": "435ad0da-6055-44dc-b4e0-417bda28c51d",
   "metadata": {},
   "outputs": [],
   "source": [
    "indexs = [7, 85, 44, 2595, 5000, 342, 234]"
   ]
  },
  {
   "cell_type": "code",
   "execution_count": 9,
   "id": "7fddf4f1-a0da-4d2d-91ff-e8cf0dbab599",
   "metadata": {},
   "outputs": [
   ],
   "source": [
    "show_images(ds, indexs, 1, len(indexs)) # ColorJitter(0.1, 0.7, 1, 0.1)"
   ]
  },
  {
   "cell_type": "markdown",
   "id": "7dda850e-5fcc-4545-a204-e52c4cdee175",
   "metadata": {},
   "source": [
    "# y class 분포 & 상관관계 확인"
   ]
  },
  {
   "cell_type": "code",
   "execution_count": 10,
   "id": "1dd7b05e-0bc1-4c3f-bb5e-7d8f0b7a471d",
   "metadata": {},
   "outputs": [
    {
     "name": "stdout",
     "output_type": "stream",
     "text": [
      "Counter({<MaskLabels.MASK: 0>: 13500, <MaskLabels.NORMAL: 2>: 2700, <MaskLabels.INCORRECT: 1>: 2700})\n",
      "Counter({<GenderLabels.FEMALE: 1>: 11606, <GenderLabels.MALE: 0>: 7294})\n",
      "Counter({<AgeLabels.YOUNG: 0>: 8967, <AgeLabels.MIDDLE: 1>: 8589, <AgeLabels.OLD: 2>: 1344})\n"
     ]
    },
    {
     "data": {
      "image/png": "[encoded data removed]",
      "text/plain": [
       "<Figure size 1440x360 with 3 Axes>"
      ]
     },
     "metadata": {
      "needs_background": "light"
     },
     "output_type": "display_data"
    }
   ],
   "source": [
    "plt.figure(figsize=(20,5))\n",
    "\n",
    "plot_name = ['MaskLabels', 'GenderLabels', 'AgeLabels']\n",
    "for i, data in enumerate([ds.mask_labels, ds.gender_labels, ds.age_labels]):\n",
    "    data = Counter(data)\n",
    "    print(data)\n",
    "    \n",
    "    plt.subplot(1, 4, i+1)\n",
    "    plt.bar(data.keys(), data.values(), tick_label=[*data.keys()])\n",
    "    plt.title(plot_name[i])\n",
    "plt.show()"
   ]
  },
  {
   "cell_type": "code",
   "execution_count": 11,
   "id": "4694e76d-d33d-48db-9f62-02f5e1127c78",
   "metadata": {},
   "outputs": [
    {
     "data": {
      "image/png": "[encoded data removed]",
      "text/plain": [
       "<Figure size 432x288 with 1 Axes>"
      ]
     },
     "metadata": {
      "needs_background": "light"
     },
     "output_type": "display_data"
    }
   ],
   "source": [
    "df_y = pd.Series([ds.encode_multi_class(mask, gender, age) for mask, gender, age in zip(ds.mask_labels, ds.gender_labels, ds.age_labels)])\n",
    "df_y = df_y.value_counts()\n",
    "plt.bar(df_y.index, df_y.values, tick_label=df_y.index)\n",
    "plt.show()"
   ]
  },
  {
   "cell_type": "code",
   "execution_count": 12,
   "id": "0f0d0b17-6ec2-4203-a13c-13326a017c07",
   "metadata": {},
   "outputs": [
    {
     "data": {
      "image/png": "[encoded data removed]",
      "text/plain": [
       "<Figure size 430.5x360 with 1 Axes>"
      ]
     },
     "metadata": {
      "needs_background": "light"
     },
     "output_type": "display_data"
    }
   ],
   "source": [
    "sns.displot(train_csv, x=\"age\", hue=\"gender\", stat=\"density\")\n",
    "plt.show()"
   ]
  },
  {
   "cell_type": "code",
   "execution_count": 13,
   "id": "b575e9a2-c253-43ce-a07b-ee1ba0e74417",
   "metadata": {},
   "outputs": [
    {
     "data": {
      "image/png": "[encoded data removed]",
      "text/plain": [
       "<Figure size 432x288 with 1 Axes>"
      ]
     },
     "metadata": {
      "needs_background": "light"
     },
     "output_type": "display_data"
    }
   ],
   "source": [
    "sns.boxplot(x='gender', y='age', data=train_csv)\n",
    "plt.show()"
   ]
  },
  {
   "cell_type": "markdown",
   "id": "ed341e65-0209-4e7f-947d-6e9c9f17c21d",
   "metadata": {},
   "source": [
    "# 얼굴 인식 Haar Cascade 방법"
   ]
  },
  {
   "cell_type": "code",
   "execution_count": 14,
   "id": "93e90451-3b57-46f0-813b-4480c48a5df9",
   "metadata": {},
   "outputs": [],
   "source": [
    "# num2class = [*ds._file_names.keys()]"
   ]
  },
  {
   "cell_type": "code",
   "execution_count": 15,
   "id": "4485eb4a-13d6-407b-9f94-32dcbbb72a48",
   "metadata": {},
   "outputs": [],
   "source": [
    "# face_cascade = cv2.CascadeClassifier(cv2.data.haarcascades + 'haarcascade_frontalface_default.xml')"
   ]
  },
  {
   "cell_type": "code",
   "execution_count": 16,
   "id": "a24c0595-38be-49da-9907-ea7cba267b24",
   "metadata": {},
   "outputs": [],
   "source": [
    "# def get_ext(img_dir, img_id):\n",
    "#     \"\"\"\n",
    "#     학습 데이터셋 이미지 폴더에는 여러 하위폴더로 구성되고, 이 하위폴더들에는 각 사람의 사진들이 들어가있습니다. 하위폴더에 속한 이미지의 확장자를 구하는 함수입니다.\n",
    "    \n",
    "#     Args:\n",
    "#         img_dir: 학습 데이터셋 이미지 폴더 경로 \n",
    "#         img_id: 학습 데이터셋 하위폴더 이름\n",
    "\n",
    "#     Returns:\n",
    "#         ext: 이미지의 확장자\n",
    "#     \"\"\"\n",
    "#     filename = os.listdir(os.path.join(img_dir, img_id))[0]\n",
    "#     ext = os.path.splitext(filename)[-1].lower()\n",
    "#     return ext"
   ]
  },
  {
   "cell_type": "code",
   "execution_count": 17,
   "id": "41c4fa4c-7741-403a-9dab-d82f4c5a4efa",
   "metadata": {},
   "outputs": [],
   "source": [
    "# imgs = []\n",
    "# bboxes = []\n",
    "# not_found_idx = []\n",
    "\n",
    "# img_id = train_csv.iloc[504].path\n",
    "# ext = get_ext(images_dir, img_id)\n",
    "# for i, class_id in enumerate(num2class):\n",
    "#     img = np.array(Image.open(os.path.join(images_dir, img_id, class_id+ext)))\n",
    "    \n",
    "#     bbox = face_cascade.detectMultiScale(img)\n",
    "#     imgs.append(img)\n",
    "#     if len(bbox) != 0:\n",
    "#         bboxes.append(bbox.max(axis=0))\n",
    "#     else:\n",
    "#         not_found_idx.append(i)\n",
    "#         print(f'{class_id} not found face')\n",
    "# imgs = np.array(imgs)\n",
    "# bboxes = np.array(bboxes)"
   ]
  },
  {
   "cell_type": "code",
   "execution_count": 18,
   "id": "9f234539-1dba-4a3b-90ae-5297e713e34f",
   "metadata": {},
   "outputs": [],
   "source": [
    "# fig, axes = plt.subplots(1, len(not_found_idx), sharex=True, sharey=True, figsize=(12, 6))\n",
    "# for i, j in enumerate(not_found_idx):\n",
    "#     axes[i].imshow(imgs[j])\n",
    "#     axes[i].set_title(f'{num2class[j]}')\n",
    "# plt.show()"
   ]
  },
  {
   "cell_type": "markdown",
   "id": "quiet-organizer",
   "metadata": {},
   "source": [
    "## 1. Model 정의"
   ]
  },
  {
   "cell_type": "code",
   "execution_count": 20,
   "id": "8ada370c-e01c-4100-8fcd-79b3fd1c27e7",
   "metadata": {},
   "outputs": [],
   "source": [
    "# wandb setting\n",
    "wandb.init(project=\"model test\", entity=\"hyunah\")"
   ]
  },
  {
   "cell_type": "code",
   "execution_count": null,
   "id": "d34d28b0-b848-4717-bb33-2c4e9c1cacd8",
   "metadata": {},
   "outputs": [],
   "source": [
    "wandb.config = {\n",
    "    \"batch_size\": BATCH_SIZE,\n",
    "    \"learning_rate\": LR,\n",
    "    \"epochs\": EPOCH\n",
    "}"
   ]
  },
  {
   "cell_type": "code",
   "execution_count": null,
   "id": "1357e521-bb80-43a4-9ce5-01ba4aef2646",
   "metadata": {},
   "outputs": [],
   "source": [
    "# train & eval dataset split\n",
    "train_ss, eval_ss = ds.split_dataset()\n",
    "\n",
    "len(train_ss), len(eval_ss)"
   ]
  },
  {
   "cell_type": "code",
   "execution_count": null,
   "id": "50c45012-b60f-4b63-9a1f-8ecd33e0bc38",
   "metadata": {},
   "outputs": [],
   "source": [
    "# load dataloader\n",
    "train_loader = DataLoader(\n",
    "    train_ss,\n",
    "    batch_size = BATCH_SIZE,\n",
    "    num_workers= NUM_WORKERS,\n",
    "    shuffle=True\n",
    ")\n",
    "eval_loader = DataLoader(\n",
    "    eval_ss,\n",
    "    batch_size = BATCH_SIZE,\n",
    "    num_workers= NUM_WORKERS,\n",
    "    shuffle=True\n",
    ")\n",
    "\n",
    "len(train_loader)*BATCH_SIZE, len(eval_loader)*BATCH_SIZE"
   ]
  },
  {
   "cell_type": "code",
   "execution_count": null,
   "id": "23718a7b-1819-4188-847e-3ef15c978f6c",
   "metadata": {},
   "outputs": [],
   "source": [
    "# model, loss_fn, optm setting\n",
    "model = models.resnet18(pretrained=True).to(device)\n",
    "loss_fn = FocalLoss()\n",
    "optm = torch.optim.Adam(model.parameters(), lr=LR)\n",
    "\n",
    "# resnet dense-layer output setting\n",
    "model.fc = nn.Linear(model.fc.in_features, CLASS_NUM).to(device)\n",
    "\n",
    "# model weight init\n",
    "nn.init.xavier_uniform_(model.fc.weight) # weight= Xavier init\n",
    "stdv = np.sqrt(1 / model.fc.in_features)\n",
    "model.fc.bias.data.uniform_(-stdv, stdv) # bias= Uniform init"
   ]
  },
  {
   "cell_type": "code",
   "execution_count": null,
   "id": "67023e1e-cf44-424c-ab14-f7a84d5f5855",
   "metadata": {},
   "outputs": [],
   "source": [
    "# import torch.nn.init as init\n",
    "\n",
    "# def initialize_weights(model):\n",
    "#     \"\"\"\n",
    "#     Xavier uniform 분포로 모든 weight 를 초기화합니다.\n",
    "#     더 많은 weight 초기화 방법은 다음 문서에서 참고해주세요. https://pytorch.org/docs/stable/nn.init.html\n",
    "#     \"\"\"\n",
    "#     for m in model.modules():\n",
    "#         if isinstance(m, nn.Linear):\n",
    "#             init.xavier_uniform_(m.weight.data)\n",
    "#             if m.bias is not None:\n",
    "#                 m.bias.data.zero_()"
   ]
  },
  {
   "cell_type": "code",
   "execution_count": null,
   "id": "e6f441ea-5711-4e5a-b695-58f3f6db009f",
   "metadata": {},
   "outputs": [],
   "source": [
    "# # vgg model && classifier output setting\n",
    "# model = models.vgg16_bn(pretrained=True).to(device)\n",
    "# model.classifier[6] = nn.Linear(in_features=4096, out_features=CLASS_NUM, bias=True).to(device)\n",
    "\n",
    "# # model task와 our task가 유사하면, weight freeze\n",
    "# model.features.requires_grad_(False) # features 파트만 freeze\n",
    "\n",
    "# # model weight init\n",
    "# initialize_weights(model.classifier)\n",
    "\n",
    "# # loss_fn, optm setting\n",
    "# loss_fn = FocalLoss()\n",
    "# optm = torch.optim.Adam(model.parameters(), lr=LR)"
   ]
  },
  {
   "cell_type": "code",
   "execution_count": null,
   "id": "91412e20-8c05-41ac-a4af-c07224e91d65",
   "metadata": {},
   "outputs": [],
   "source": [
    "# model train & eval\n",
    "train(train_loader, model, loss_fn, optm, EPOCH, is_wandb_logging=True)\n",
    "eval(eval_loader, model)"
   ]
  },
  {
   "cell_type": "code",
   "execution_count": null,
   "id": "b520e980-c455-4120-9069-e74059b84652",
   "metadata": {},
   "outputs": [],
   "source": [
    "# # k-fold-cv train & eval\n",
    "# k_fold_train(5, ds, model, loss_fn, loss_fn, optm, \n",
    "#              BATCH_SIZE, EPOCH, NUM_WORKERS, \n",
    "#              is_wandb_logging=True, accumulation_steps=1, patience=3)"
   ]
  },
  {
   "cell_type": "markdown",
   "id": "domestic-channels",
   "metadata": {},
   "source": [
    "## 2. Test Dataset 정의"
   ]
  },
  {
   "cell_type": "markdown",
   "id": "continued-feelings",
   "metadata": {},
   "source": [
    "## 3. Inference"
   ]
  },
  {
   "cell_type": "code",
   "execution_count": null,
   "id": "02fabd4b-d685-489c-84cc-8a475db9c424",
   "metadata": {},
   "outputs": [],
   "source": [
    "# torch.save(model, os.path.join(model_dir, \"resnet34_crossentropy_adam.pt\"))\n",
    "# model.load_state_dict(torch.load(model_path, map_location=device), strict=False)"
   ]
  },
  {
   "cell_type": "code",
   "execution_count": null,
   "id": "5724022d-f2e1-4faa-91fd-c468150912da",
   "metadata": {},
   "outputs": [],
   "source": [
    "model_name = str(model).split('(')[0]\n",
    "loss_name = str(loss_fn).split('(')[0]\n",
    "optm_name = str(optm).split(' ')[0]\n",
    "test_filename = f'{model_name}_{loss_name}_{optm_name}.csv'"
   ]
  },
  {
   "cell_type": "code",
   "execution_count": null,
   "id": "983cd0e8-8f97-46ff-8ee6-ea5e1e9646aa",
   "metadata": {},
   "outputs": [],
   "source": [
    "test(test_dir, model, transform, saving_filename=test_filename)"
   ]
  },
  {
   "cell_type": "code",
   "execution_count": null,
   "id": "bf35903d-074d-4428-bd0a-a6c5e778afa8",
   "metadata": {},
   "outputs": [],
   "source": [
    "compare_with_SOTA(test_dir, test_filename)"
   ]
  },
  {
   "cell_type": "code",
   "execution_count": 23,
   "id": "ddf0d08d-9a66-4e62-a1b5-13f7ac6bbcc2",
   "metadata": {},
   "outputs": [],
   "source": [
    "from inference import ensemble_hard_voting_by\n",
    "\n",
    "ans = ensemble_hard_voting_by(test_dir, [\"SOTA.csv\", \"ResNet_FocalLoss_Adam.csv\"])"
   ]
  },
  {
   "cell_type": "code",
   "execution_count": 24,
   "id": "7501ed8a-2d0f-4e92-be07-fecf62edabe3",
   "metadata": {},
   "outputs": [
    {
     "data": {
      "text/plain": [
       "[13, 1, 13, 13, 12]"
      ]
     },
     "execution_count": 24,
     "metadata": {},
     "output_type": "execute_result"
    }
   ],
   "source": [
    "ans[:5]"
   ]
  },
  {
   "cell_type": "code",
   "execution_count": 25,
   "id": "851e266c-ac6f-49d5-a459-c736acac6d06",
   "metadata": {},
   "outputs": [],
   "source": [
    "info_path = os.path.join(test_dir, 'info.csv')\n",
    "info = pd.read_csv(info_path)\n",
    "info['ans'] = ans\n",
    "\n",
    "info.to_csv(os.path.join(test_dir, f'output.csv'), index=False)"
   ]
  },
  {
   "cell_type": "code",
   "execution_count": null,
   "id": "22401da4-c043-423c-b5dd-195d4ecb0e0a",
   "metadata": {},
   "outputs": [],
   "source": []
  }
 ],
 "metadata": {
  "kernelspec": {
   "display_name": "Python 3 (ipykernel)",
   "language": "python",
   "name": "python3"
  },
  "language_info": {
   "codemirror_mode": {
    "name": "ipython",
    "version": 3
   },
   "file_extension": ".py",
   "mimetype": "text/x-python",
   "name": "python",
   "nbconvert_exporter": "python",
   "pygments_lexer": "ipython3",
   "version": "3.8.5"
  }
 },
 "nbformat": 4,
 "nbformat_minor": 5
}
