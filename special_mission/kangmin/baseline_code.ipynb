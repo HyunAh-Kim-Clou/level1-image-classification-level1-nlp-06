{
 "cells": [
  {
   "cell_type": "code",
   "execution_count": 1,
   "id": "ac6a0a11-49ca-434d-9ce2-d35630f062a6",
   "metadata": {},
   "outputs": [],
   "source": [
    "import pandas as pd\n",
    "import numpy as np\n",
    "from glob import glob\n",
    "import os\n",
    "\n",
    "from PIL import Image\n",
    "\n",
    "import torch\n",
    "import torch.nn as nn\n",
    "import torch.optim as optim\n",
    "import torch.nn.functional as F\n",
    "from torch.utils.data import Dataset, DataLoader \n",
    "from torchvision import transforms\n",
    "\n",
    "from sklearn.utils import class_weight, shuffle\n",
    "from sklearn.metrics import f1_score, fbeta_score, accuracy_score\n",
    "from sklearn.model_selection import train_test_split"
   ]
  },
  {
   "cell_type": "code",
   "execution_count": 2,
   "id": "a66b3783-3048-4673-a15a-8b100ada4293",
   "metadata": {},
   "outputs": [
    {
     "name": "stdout",
     "output_type": "stream",
     "text": [
      "cuda:0\n"
     ]
    }
   ],
   "source": [
    "device = torch.device('cuda:0' if torch.cuda.is_available() else 'cpu')\n",
    "print(device)"
   ]
  },
  {
   "cell_type": "code",
   "execution_count": 3,
   "id": "1d169c55-a51b-409d-baa4-e4edb59bbb8b",
   "metadata": {},
   "outputs": [
    {
     "data": {
      "text/html": [
       "<div>\n",
       "<style scoped>\n",
       "    .dataframe tbody tr th:only-of-type {\n",
       "        vertical-align: middle;\n",
       "    }\n",
       "\n",
       "    .dataframe tbody tr th {\n",
       "        vertical-align: top;\n",
       "    }\n",
       "\n",
       "    .dataframe thead th {\n",
       "        text-align: right;\n",
       "    }\n",
       "</style>\n",
       "<table border=\"1\" class=\"dataframe\">\n",
       "  <thead>\n",
       "    <tr style=\"text-align: right;\">\n",
       "      <th></th>\n",
       "      <th>Unnamed: 0</th>\n",
       "      <th>id</th>\n",
       "      <th>gender</th>\n",
       "      <th>img_path</th>\n",
       "      <th>age</th>\n",
       "      <th>age_group</th>\n",
       "      <th>mask</th>\n",
       "      <th>class</th>\n",
       "    </tr>\n",
       "  </thead>\n",
       "  <tbody>\n",
       "    <tr>\n",
       "      <th>0</th>\n",
       "      <td>0</td>\n",
       "      <td>000001</td>\n",
       "      <td>female</td>\n",
       "      <td>/opt/ml/input/data/train/images/000001_female_...</td>\n",
       "      <td>45</td>\n",
       "      <td>&gt;= 30 and &lt; 60</td>\n",
       "      <td>mask</td>\n",
       "      <td>4</td>\n",
       "    </tr>\n",
       "    <tr>\n",
       "      <th>1</th>\n",
       "      <td>1</td>\n",
       "      <td>000001</td>\n",
       "      <td>female</td>\n",
       "      <td>/opt/ml/input/data/train/images/000001_female_...</td>\n",
       "      <td>45</td>\n",
       "      <td>&gt;= 30 and &lt; 60</td>\n",
       "      <td>mask</td>\n",
       "      <td>4</td>\n",
       "    </tr>\n",
       "    <tr>\n",
       "      <th>2</th>\n",
       "      <td>2</td>\n",
       "      <td>000001</td>\n",
       "      <td>female</td>\n",
       "      <td>/opt/ml/input/data/train/images/000001_female_...</td>\n",
       "      <td>45</td>\n",
       "      <td>&gt;= 30 and &lt; 60</td>\n",
       "      <td>normal</td>\n",
       "      <td>16</td>\n",
       "    </tr>\n",
       "    <tr>\n",
       "      <th>3</th>\n",
       "      <td>3</td>\n",
       "      <td>000001</td>\n",
       "      <td>female</td>\n",
       "      <td>/opt/ml/input/data/train/images/000001_female_...</td>\n",
       "      <td>45</td>\n",
       "      <td>&gt;= 30 and &lt; 60</td>\n",
       "      <td>incorrect_mask</td>\n",
       "      <td>10</td>\n",
       "    </tr>\n",
       "    <tr>\n",
       "      <th>4</th>\n",
       "      <td>4</td>\n",
       "      <td>000001</td>\n",
       "      <td>female</td>\n",
       "      <td>/opt/ml/input/data/train/images/000001_female_...</td>\n",
       "      <td>45</td>\n",
       "      <td>&gt;= 30 and &lt; 60</td>\n",
       "      <td>mask</td>\n",
       "      <td>4</td>\n",
       "    </tr>\n",
       "    <tr>\n",
       "      <th>...</th>\n",
       "      <td>...</td>\n",
       "      <td>...</td>\n",
       "      <td>...</td>\n",
       "      <td>...</td>\n",
       "      <td>...</td>\n",
       "      <td>...</td>\n",
       "      <td>...</td>\n",
       "      <td>...</td>\n",
       "    </tr>\n",
       "    <tr>\n",
       "      <th>18895</th>\n",
       "      <td>18895</td>\n",
       "      <td>006959</td>\n",
       "      <td>male</td>\n",
       "      <td>/opt/ml/input/data/train/images/006959_male_As...</td>\n",
       "      <td>19</td>\n",
       "      <td>&lt; 30</td>\n",
       "      <td>normal</td>\n",
       "      <td>12</td>\n",
       "    </tr>\n",
       "    <tr>\n",
       "      <th>18896</th>\n",
       "      <td>18896</td>\n",
       "      <td>006959</td>\n",
       "      <td>male</td>\n",
       "      <td>/opt/ml/input/data/train/images/006959_male_As...</td>\n",
       "      <td>19</td>\n",
       "      <td>&lt; 30</td>\n",
       "      <td>incorrect_mask</td>\n",
       "      <td>6</td>\n",
       "    </tr>\n",
       "    <tr>\n",
       "      <th>18897</th>\n",
       "      <td>18897</td>\n",
       "      <td>006959</td>\n",
       "      <td>male</td>\n",
       "      <td>/opt/ml/input/data/train/images/006959_male_As...</td>\n",
       "      <td>19</td>\n",
       "      <td>&lt; 30</td>\n",
       "      <td>mask</td>\n",
       "      <td>0</td>\n",
       "    </tr>\n",
       "    <tr>\n",
       "      <th>18898</th>\n",
       "      <td>18898</td>\n",
       "      <td>006959</td>\n",
       "      <td>male</td>\n",
       "      <td>/opt/ml/input/data/train/images/006959_male_As...</td>\n",
       "      <td>19</td>\n",
       "      <td>&lt; 30</td>\n",
       "      <td>mask</td>\n",
       "      <td>0</td>\n",
       "    </tr>\n",
       "    <tr>\n",
       "      <th>18899</th>\n",
       "      <td>18899</td>\n",
       "      <td>006959</td>\n",
       "      <td>male</td>\n",
       "      <td>/opt/ml/input/data/train/images/006959_male_As...</td>\n",
       "      <td>19</td>\n",
       "      <td>&lt; 30</td>\n",
       "      <td>mask</td>\n",
       "      <td>0</td>\n",
       "    </tr>\n",
       "  </tbody>\n",
       "</table>\n",
       "<p>18900 rows × 8 columns</p>\n",
       "</div>"
      ],
      "text/plain": [
       "       Unnamed: 0      id  gender  \\\n",
       "0               0  000001  female   \n",
       "1               1  000001  female   \n",
       "2               2  000001  female   \n",
       "3               3  000001  female   \n",
       "4               4  000001  female   \n",
       "...           ...     ...     ...   \n",
       "18895       18895  006959    male   \n",
       "18896       18896  006959    male   \n",
       "18897       18897  006959    male   \n",
       "18898       18898  006959    male   \n",
       "18899       18899  006959    male   \n",
       "\n",
       "                                                img_path  age       age_group  \\\n",
       "0      /opt/ml/input/data/train/images/000001_female_...   45  >= 30 and < 60   \n",
       "1      /opt/ml/input/data/train/images/000001_female_...   45  >= 30 and < 60   \n",
       "2      /opt/ml/input/data/train/images/000001_female_...   45  >= 30 and < 60   \n",
       "3      /opt/ml/input/data/train/images/000001_female_...   45  >= 30 and < 60   \n",
       "4      /opt/ml/input/data/train/images/000001_female_...   45  >= 30 and < 60   \n",
       "...                                                  ...  ...             ...   \n",
       "18895  /opt/ml/input/data/train/images/006959_male_As...   19            < 30   \n",
       "18896  /opt/ml/input/data/train/images/006959_male_As...   19            < 30   \n",
       "18897  /opt/ml/input/data/train/images/006959_male_As...   19            < 30   \n",
       "18898  /opt/ml/input/data/train/images/006959_male_As...   19            < 30   \n",
       "18899  /opt/ml/input/data/train/images/006959_male_As...   19            < 30   \n",
       "\n",
       "                 mask  class  \n",
       "0                mask      4  \n",
       "1                mask      4  \n",
       "2              normal     16  \n",
       "3      incorrect_mask     10  \n",
       "4                mask      4  \n",
       "...               ...    ...  \n",
       "18895          normal     12  \n",
       "18896  incorrect_mask      6  \n",
       "18897            mask      0  \n",
       "18898            mask      0  \n",
       "18899            mask      0  \n",
       "\n",
       "[18900 rows x 8 columns]"
      ]
     },
     "execution_count": 3,
     "metadata": {},
     "output_type": "execute_result"
    }
   ],
   "source": [
    "train_dir = '/opt/ml/input/data/train'\n",
    "train_df = pd.read_csv('/opt/ml/input/data/train/train_data_total.csv')\n",
    "train_df"
   ]
  },
  {
   "cell_type": "code",
   "execution_count": 97,
   "id": "a097d693-7a45-4887-a55b-3298843e1fbe",
   "metadata": {},
   "outputs": [],
   "source": [
    "class CustomDataset(Dataset):\n",
    "    def __init__(self, df_data, train=True):\n",
    "        self.data = df_data\n",
    "        self.label = self.data['class'].tolist()\n",
    "        self.img_path = self.data['img_path'].tolist()\n",
    "        \n",
    "        self.transform = transforms.ToTensor()\n",
    "\n",
    "        self.train = train\n",
    "    \n",
    "    def __len__(self):\n",
    "        return len(self.label)\n",
    "    \n",
    "    def __getitem__(self, index):\n",
    "        img = Image.open(self.img_path[index])\n",
    "        img = img.resize((32, 32))\n",
    "        img = np.asarray(img)/255\n",
    "        \n",
    "        img_tensor = self.transform(img)\n",
    "        \n",
    "        if self.train:\n",
    "            return (self.label[index], img_tensor)\n",
    "        else:\n",
    "            return img_tnesor\n",
    "        \n",
    "        \n",
    "        return img"
   ]
  },
  {
   "cell_type": "code",
   "execution_count": 98,
   "id": "269fcf37-6f50-4f10-9c9a-f93ff488271e",
   "metadata": {},
   "outputs": [],
   "source": [
    "data_test = CustomDataset(train_df)"
   ]
  },
  {
   "cell_type": "code",
   "execution_count": 99,
   "id": "980577cf-5a3d-4807-961d-ecad8367ce15",
   "metadata": {},
   "outputs": [],
   "source": [
    "train_set, valid_set = train_test_split(train_df, test_size=0.20, random_state=77)"
   ]
  },
  {
   "cell_type": "code",
   "execution_count": 100,
   "id": "19159c60-4406-46d9-80bf-267752c5291f",
   "metadata": {},
   "outputs": [
    {
     "name": "stdout",
     "output_type": "stream",
     "text": [
      "(15120, 8) (3780, 8)\n"
     ]
    }
   ],
   "source": [
    "print(train_set.shape, valid_set.shape)"
   ]
  },
  {
   "cell_type": "code",
   "execution_count": 101,
   "id": "bc64ec43-52b1-47f4-9a3e-015d6e8f2ff6",
   "metadata": {},
   "outputs": [],
   "source": [
    "custom_dataset = CustomDataset(train_set)"
   ]
  },
  {
   "cell_type": "code",
   "execution_count": 102,
   "id": "e89ee826-341e-47bf-a816-19c87a9b2536",
   "metadata": {},
   "outputs": [],
   "source": [
    "class CustomModel(nn.Module):\n",
    "    def __init__(self):\n",
    "        super(CustomModel, self).__init__()\n",
    "        \n",
    "        self.cnn1 = nn.Conv2d(in_channels=3, out_channels=16, kernel_size=5, stride=1, padding=0)\n",
    "        self.relu1 = nn.ReLU()\n",
    "        self.maxpool1 = nn.MaxPool2d(kernel_size=2)\n",
    "        self.fc1 = nn.Linear(3136, 18)\n",
    "        \n",
    "    def forward(self, x):\n",
    "        x = self.cnn1(x)\n",
    "        x = self.relu1(x)\n",
    "        x = self.maxpool1(x)\n",
    "        x = x.view(x.size(0), -1)\n",
    "        x = self.fc1(x)\n",
    "        return x"
   ]
  },
  {
   "cell_type": "code",
   "execution_count": 103,
   "id": "8241192f-5a99-4b36-8af9-fe663feffe3c",
   "metadata": {},
   "outputs": [],
   "source": [
    "test_model = CustomModel()"
   ]
  },
  {
   "cell_type": "code",
   "execution_count": 104,
   "id": "c636c4eb-17a8-4bd1-923e-d4f2c1c6dacb",
   "metadata": {},
   "outputs": [
    {
     "data": {
      "text/plain": [
       "CustomModel(\n",
       "  (cnn1): Conv2d(3, 16, kernel_size=(5, 5), stride=(1, 1))\n",
       "  (relu1): ReLU()\n",
       "  (maxpool1): MaxPool2d(kernel_size=2, stride=2, padding=0, dilation=1, ceil_mode=False)\n",
       "  (fc1): Linear(in_features=3136, out_features=18, bias=True)\n",
       ")"
      ]
     },
     "execution_count": 104,
     "metadata": {},
     "output_type": "execute_result"
    }
   ],
   "source": [
    "test_model.to(device)"
   ]
  },
  {
   "cell_type": "code",
   "execution_count": 105,
   "id": "a3243bb4-bbb6-41d7-a8fc-27c2d49897be",
   "metadata": {},
   "outputs": [
    {
     "name": "stdout",
     "output_type": "stream",
     "text": [
      "CustomModel(\n",
      "  (cnn1): Conv2d(3, 16, kernel_size=(5, 5), stride=(1, 1))\n",
      "  (relu1): ReLU()\n",
      "  (maxpool1): MaxPool2d(kernel_size=2, stride=2, padding=0, dilation=1, ceil_mode=False)\n",
      "  (fc1): Linear(in_features=3136, out_features=18, bias=True)\n",
      ")\n"
     ]
    }
   ],
   "source": [
    "print(test_model)"
   ]
  },
  {
   "cell_type": "code",
   "execution_count": 106,
   "id": "6c6602e1-eccf-4ebb-9b27-2e498b47be2a",
   "metadata": {},
   "outputs": [
    {
     "name": "stdout",
     "output_type": "stream",
     "text": [
      "Eopch: 0 | Batch ID: 0 | Loss: 2.882166624069214\n",
      "Eopch: 0 | Batch ID: 200 | Loss: 2.4311845302581787\n",
      "Eopch: 0 | Batch ID: 400 | Loss: 2.2662477493286133\n",
      "Eopch: 0 | Batch ID: 600 | Loss: 1.6459068059921265\n",
      "Eopch: 0 | Batch ID: 800 | Loss: 1.3359240293502808\n",
      "Eopch: 0 | Batch ID: 1000 | Loss: 1.585040807723999\n",
      "Eopch: 1 | Batch ID: 0 | Loss: 1.901785969734192\n",
      "Eopch: 1 | Batch ID: 200 | Loss: 1.746011734008789\n",
      "Eopch: 1 | Batch ID: 400 | Loss: 1.581292748451233\n",
      "Eopch: 1 | Batch ID: 600 | Loss: 1.0829755067825317\n",
      "Eopch: 1 | Batch ID: 800 | Loss: 0.8084301948547363\n",
      "Eopch: 1 | Batch ID: 1000 | Loss: 1.138932466506958\n",
      "done!\n"
     ]
    }
   ],
   "source": [
    "from torch.autograd import Variable\n",
    "\n",
    "my_dataset_loader =  torch.utils.data.DataLoader(dataset=custom_dataset, batch_size=14, shuffle=False)\n",
    "\n",
    "criterion = nn.CrossEntropyLoss()\n",
    "optimizer = optim.SGD(test_model.parameters(), lr=1e-2)\n",
    "# optimizer = optim.Adam(test_model.parameters(), lr=1e-2)\n",
    "\n",
    "for epoch in range(2):\n",
    "    for i, (labels, images) in enumerate(my_dataset_loader):\n",
    "        images = Variable(images).cuda()\n",
    "        labels = Variable(labels).cuda()\n",
    "        \n",
    "        optimizer.zero_grad()\n",
    "        \n",
    "        outputs = test_model(images.float())\n",
    "        \n",
    "        loss = criterion(outputs, labels)\n",
    "        \n",
    "        loss.backward()\n",
    "        \n",
    "        optimizer.step()\n",
    "        \n",
    "        if i%200 == 0:\n",
    "            print(f\"Eopch: {epoch} | Batch ID: {i} | Loss: {loss.data}\")\n",
    "\n",
    "print(\"done!\")"
   ]
  },
  {
   "cell_type": "code",
   "execution_count": 107,
   "id": "c43dfff5-9399-4ecf-8239-e0aae46f546b",
   "metadata": {},
   "outputs": [],
   "source": [
    "valid_dataset = CustomDataset(valid_set)\n",
    "\n",
    "valid_dataset_loader =  torch.utils.data.DataLoader(dataset=valid_dataset, batch_size=14, shuffle=False)"
   ]
  },
  {
   "cell_type": "code",
   "execution_count": 108,
   "id": "7692e583-e482-4cf2-b893-15c202113b56",
   "metadata": {},
   "outputs": [
    {
     "name": "stdout",
     "output_type": "stream",
     "text": [
      "Accuracy: 0.6145502645502645\n",
      "F1 Score: 0.3496435481921103\n"
     ]
    }
   ],
   "source": [
    "targets = []\n",
    "all_predictions = []\n",
    "\n",
    "for labels, images in valid_dataset_loader:\n",
    "    with torch.no_grad():\n",
    "        images = Variable(images).cuda()\n",
    "        labels = Variable(labels).cuda()\n",
    "        \n",
    "        pred = test_model(images.float())\n",
    "        pred = pred.argmax(dim=-1)\n",
    "        \n",
    "        targets.extend(labels.cpu().numpy())\n",
    "        \n",
    "        all_predictions.extend(pred.cpu().numpy())\n",
    "\n",
    "print(f\"Accuracy: {accuracy_score(targets, all_predictions)}\")\n",
    "print(f\"F1 Score: {np.mean(f1_score(targets, all_predictions, average=None))}\")"
   ]
  },
  {
   "cell_type": "code",
   "execution_count": null,
   "id": "3a156926-51b3-4efa-8208-b1a7dc6523d5",
   "metadata": {},
   "outputs": [],
   "source": []
  }
 ],
 "metadata": {
  "kernelspec": {
   "display_name": "Python 3 (ipykernel)",
   "language": "python",
   "name": "python3"
  },
  "language_info": {
   "codemirror_mode": {
    "name": "ipython",
    "version": 3
   },
   "file_extension": ".py",
   "mimetype": "text/x-python",
   "name": "python",
   "nbconvert_exporter": "python",
   "pygments_lexer": "ipython3",
   "version": "3.8.5"
  }
 },
 "nbformat": 4,
 "nbformat_minor": 5
}
